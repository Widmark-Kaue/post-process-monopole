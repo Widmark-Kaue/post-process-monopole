{
 "cells": [
  {
   "cell_type": "code",
   "execution_count": 4,
   "metadata": {},
   "outputs": [],
   "source": [
    "import numpy as np\n",
    "import src.wave as wv\n",
    "import matplotlib.pyplot as plt\n",
    "\n",
    "from src.datadrive import *\n"
   ]
  },
  {
   "cell_type": "code",
   "execution_count": null,
   "metadata": {},
   "outputs": [],
   "source": []
  }
 ],
 "metadata": {
  "kernelspec": {
   "display_name": "post-process-monopole-ACmFocsL-py3.8",
   "language": "python",
   "name": "python3"
  },
  "language_info": {
   "codemirror_mode": {
    "name": "ipython",
    "version": 3
   },
   "file_extension": ".py",
   "mimetype": "text/x-python",
   "name": "python",
   "nbconvert_exporter": "python",
   "pygments_lexer": "ipython3",
   "version": "3.8.10"
  },
  "orig_nbformat": 4,
  "vscode": {
   "interpreter": {
    "hash": "d9375356d10b7833184cd20130d46e3d5090e4a8fdd18ca5fe483851b96cc73c"
   }
  }
 },
 "nbformat": 4,
 "nbformat_minor": 2
}
