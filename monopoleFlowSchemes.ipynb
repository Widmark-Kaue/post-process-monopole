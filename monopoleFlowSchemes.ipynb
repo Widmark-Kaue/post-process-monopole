{
 "cells": [
  {
   "cell_type": "code",
   "execution_count": null,
   "metadata": {},
   "outputs": [],
   "source": [
    "import numpy as np\n",
    "import src.wave as wv\n",
    "import matplotlib.pyplot as plt\n",
    "\n",
    "from src.datadrive import *\n"
   ]
  }
 ],
 "metadata": {
  "kernelspec": {
   "display_name": "post-process-monopole-ACmFocsL-py3.8",
   "language": "python",
   "name": "python3"
  },
  "language_info": {
   "name": "python",
   "version": "3.8.10 (default, Nov 14 2022, 12:59:47) \n[GCC 9.4.0]"
  },
  "orig_nbformat": 4,
  "vscode": {
   "interpreter": {
    "hash": "d9375356d10b7833184cd20130d46e3d5090e4a8fdd18ca5fe483851b96cc73c"
   }
  }
 },
 "nbformat": 4,
 "nbformat_minor": 2
}
