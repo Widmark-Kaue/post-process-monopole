{
 "cells": [
  {
   "cell_type": "code",
   "execution_count": 1,
   "metadata": {},
   "outputs": [],
   "source": [
    "#%% Librarys\n",
    "import numpy as np\n",
    "import wave as wv"
   ]
  },
  {
   "cell_type": "code",
   "execution_count": 2,
   "metadata": {},
   "outputs": [],
   "source": [
    "#%% Parâmetros de simulação\n",
    "microphone = np.linspace(2, 102, 11)"
   ]
  },
  {
   "cell_type": "markdown",
   "metadata": {},
   "source": [
    "# 32 PPW\n"
   ]
  },
  {
   "cell_type": "code",
   "execution_count": 9,
   "metadata": {},
   "outputs": [
    {
     "name": "stdout",
     "output_type": "stream",
     "text": [
      "3.3145\n",
      "0.0025\n",
      "40000\n"
     ]
    }
   ],
   "source": [
    "p, l = wv.pressure()\n",
    "print(l)\n",
    "\n",
    "Ts = 0.25*1/100\n",
    "print(Ts)\n",
    "\n",
    "probes = np.arange(2,102,Ts)\n",
    "print(len(probes))"
   ]
  },
  {
   "cell_type": "markdown",
   "metadata": {},
   "source": [
    "### Teste 1"
   ]
  },
  {
   "cell_type": "code",
   "execution_count": null,
   "metadata": {},
   "outputs": [],
   "source": [
    "#%% Comportamento temporal\n",
    "for m in range(len(microphone)):\n",
    "    SIM, FWH, FWH2 = wv.importData('32ppwT1', probe=m)\n",
    "\n",
    "    #% Plot\n",
    "    ti = f'Comportamento temporal (r = {round(microphone[m],2)} [m])'\n",
    "    wv.plotTime(FWH, FWH2, SIM, robs=microphone[m], title=ti)\n",
    "\n",
    "#%% Comportamento espacial\n",
    "p, pfwh, pfwh2 = wv.importData('32ppwT1', time=0.5)\n",
    "ti = f'Comportamento espacial (t = 0.5 s) - n = 4000'\n",
    "wv.plotSpacial((pfwh, pfwh2), p, r=(2, 102), tobs=0.5, title=ti)\n",
    "\n",
    "#%% RMS\n",
    "RMS = wv.rmsTime(SIM, robs=microphone[0]) * 100\n",
    "print(RMS)"
   ]
  },
  {
   "cell_type": "markdown",
   "metadata": {},
   "source": [
    "### Teste 7 - n = 80"
   ]
  },
  {
   "cell_type": "code",
   "execution_count": null,
   "metadata": {},
   "outputs": [],
   "source": [
    "for m in range(len(microphone)):\n",
    "    SIM, FWH, FWH2 = wv.importData('32ppwT7', probe=m)\n",
    "\n",
    "    #% Plot\n",
    "    ti = f'Comportamento temporal (r = {round(microphone[m],2)} [m]) - n = 80'\n",
    "    wv.plotTime(FWH, FWH2, SIM, robs=microphone[m], title=ti)\n",
    "\n",
    "\n",
    "p, pfwh, pfwh2 = wv.importData('32ppwT7', time=0.5)\n",
    "ti = f'Comportamento espacial (t = 0.5 s) - n = 80'\n",
    "wv.plotSpacial((pfwh, pfwh2), p, r=(2, 102), tobs=0.5, title=ti)\n"
   ]
  },
  {
   "cell_type": "markdown",
   "metadata": {},
   "source": [
    "### Teste 8 - n = 40"
   ]
  },
  {
   "cell_type": "code",
   "execution_count": null,
   "metadata": {},
   "outputs": [],
   "source": [
    "for m in range(len(microphone)):\n",
    "    SIM, FWH, FWH2 = wv.importData('32ppwT8', probe=m)\n",
    "\n",
    "    #% Plot\n",
    "    ti = f'Comportamento temporal (r = {round(microphone[m],2)} [m]) - n = 40'\n",
    "    wv.plotTime(FWH, FWH2, SIM, robs=microphone[m], title=ti)\n",
    "\n",
    "p, pfwh, pfwh2 = wv.importData('32ppwT8', time=0.5)\n",
    "ti = f'Comportamento espacial (t = 0.5 s) - n = 40'\n",
    "wv.plotSpacial((pfwh, pfwh2), p, r=(2, 102), tobs=0.5, title=ti)"
   ]
  },
  {
   "cell_type": "markdown",
   "metadata": {},
   "source": [
    "# 64 PPW\n",
    "### Teste 8 - n = 80"
   ]
  },
  {
   "cell_type": "code",
   "execution_count": null,
   "metadata": {},
   "outputs": [],
   "source": [
    "for m in range(len(microphone)):\n",
    "    SIM, FWH, FWH2 = wv.importData('64ppwT8', probe=m)\n",
    "\n",
    "    #% Plot\n",
    "    ti = f'Comportamento temporal (r = {round(microphone[m],2)} [m]) - n = 80'\n",
    "    wv.plotTime(FWH, FWH2, SIM, robs=microphone[m], title=ti)\n",
    "\n",
    "\n",
    "p, pfwh, pfwh2 = wv.importData('64ppwT8', time=0.5)\n",
    "ti = f'Comportamento espacial (t = 0.5 s) - n = 80'\n",
    "wv.plotSpacial((pfwh, pfwh2), p, r=(2, 102), tobs=0.5, title=ti)"
   ]
  },
  {
   "cell_type": "markdown",
   "metadata": {},
   "source": []
  },
  {
   "cell_type": "markdown",
   "metadata": {},
   "source": [
    "### Teste 9 - n = 40"
   ]
  },
  {
   "cell_type": "code",
   "execution_count": null,
   "metadata": {},
   "outputs": [],
   "source": [
    "for m in range(len(microphone)):\n",
    "    SIM, FWH, FWH2 = wv.importData('64ppwT9', probe=m)\n",
    "\n",
    "    #% Plot\n",
    "    ti = f'Comportamento temporal (r = {round(microphone[m],2)} [m]) - n = 40'\n",
    "    wv.plotTime(FWH, FWH2, SIM, robs=microphone[m], title=ti)\n",
    "\n",
    "p, pfwh, pfwh2 = wv.importData('64ppwT9', time=0.5)\n",
    "ti = f'Comportamento espacial (t = 0.5 s) - n = 40'\n",
    "wv.plotSpacial((pfwh, pfwh2), p, r=(2, 102), tobs=0.5, title=ti)"
   ]
  },
  {
   "cell_type": "markdown",
   "metadata": {},
   "source": []
  }
 ],
 "metadata": {
  "kernelspec": {
   "display_name": "Python 3.8.10 64-bit",
   "language": "python",
   "name": "python3"
  },
  "language_info": {
   "codemirror_mode": {
    "name": "ipython",
    "version": 3
   },
   "file_extension": ".py",
   "mimetype": "text/x-python",
   "name": "python",
   "nbconvert_exporter": "python",
   "pygments_lexer": "ipython3",
   "version": "3.8.10"
  },
  "orig_nbformat": 4,
  "vscode": {
   "interpreter": {
    "hash": "916dbcbb3f70747c44a77c7bcd40155683ae19c65e1c03b4aa3499c5328201f1"
   }
  }
 },
 "nbformat": 4,
 "nbformat_minor": 2
}
