{
 "cells": [
  {
   "cell_type": "code",
   "execution_count": 3,
   "metadata": {},
   "outputs": [
    {
     "name": "stdout",
     "output_type": "stream",
     "text": [
      "/home/widmark/Github/post-process-monopole/test/teste.dat\n"
     ]
    },
    {
     "ename": "FileNotFoundError",
     "evalue": "[Errno 2] No such file or directory: '/home/widmark/Github/post-process-monopole/test/teste.txt' -> '/home/widmark/Github/post-process-monopole/test/teste.dat'",
     "output_type": "error",
     "traceback": [
      "\u001b[0;31m---------------------------------------------------------------------------\u001b[0m",
      "\u001b[0;31mFileNotFoundError\u001b[0m                         Traceback (most recent call last)",
      "Cell \u001b[0;32mIn[3], line 2\u001b[0m\n\u001b[1;32m      1\u001b[0m \u001b[39mimport\u001b[39;00m \u001b[39mnumpy\u001b[39;00m \u001b[39mas\u001b[39;00m \u001b[39mnp\u001b[39;00m\n\u001b[0;32m----> 2\u001b[0m \u001b[39mimport\u001b[39;00m \u001b[39msrc\u001b[39;00m\u001b[39m.\u001b[39;00m\u001b[39mwave\u001b[39;00m \u001b[39mas\u001b[39;00m \u001b[39mwv\u001b[39;00m\n\u001b[1;32m      3\u001b[0m \u001b[39mimport\u001b[39;00m \u001b[39mmatplotlib\u001b[39;00m\u001b[39m.\u001b[39;00m\u001b[39mpyplot\u001b[39;00m \u001b[39mas\u001b[39;00m \u001b[39mplt\u001b[39;00m\n\u001b[1;32m      5\u001b[0m \u001b[39mfrom\u001b[39;00m \u001b[39msrc\u001b[39;00m\u001b[39m.\u001b[39;00m\u001b[39mdatadrive\u001b[39;00m \u001b[39mimport\u001b[39;00m \u001b[39m*\u001b[39m\n",
      "File \u001b[0;32m~/Github/post-process-monopole/src/wave.py:9\u001b[0m\n\u001b[1;32m      7\u001b[0m \u001b[39mfrom\u001b[39;00m \u001b[39mpathlib\u001b[39;00m \u001b[39mimport\u001b[39;00m Path\n\u001b[1;32m      8\u001b[0m \u001b[39mfrom\u001b[39;00m \u001b[39mscipy\u001b[39;00m\u001b[39m.\u001b[39;00m\u001b[39mintegrate\u001b[39;00m \u001b[39mimport\u001b[39;00m trapz\n\u001b[0;32m----> 9\u001b[0m \u001b[39mfrom\u001b[39;00m \u001b[39msrc\u001b[39;00m\u001b[39m.\u001b[39;00m\u001b[39mdatadrive\u001b[39;00m \u001b[39mimport\u001b[39;00m PATH_DATA\n\u001b[1;32m     10\u001b[0m \u001b[39mfrom\u001b[39;00m \u001b[39mscipy\u001b[39;00m\u001b[39m.\u001b[39;00m\u001b[39msignal\u001b[39;00m \u001b[39mimport\u001b[39;00m fftconvolve\n\u001b[1;32m     11\u001b[0m \u001b[39mfrom\u001b[39;00m \u001b[39mscipy\u001b[39;00m\u001b[39m.\u001b[39;00m\u001b[39minterpolate\u001b[39;00m \u001b[39mimport\u001b[39;00m interp1d\n",
      "File \u001b[0;32m~/Github/post-process-monopole/src/datadrive.py:14\u001b[0m\n\u001b[1;32m     12\u001b[0m arq \u001b[39m=\u001b[39mPATH_TEST\u001b[39m.\u001b[39mjoinpath(\u001b[39m'\u001b[39m\u001b[39mteste.txt\u001b[39m\u001b[39m'\u001b[39m)\u001b[39m.\u001b[39mabsolute()\n\u001b[1;32m     13\u001b[0m \u001b[39mprint\u001b[39m(arq\u001b[39m.\u001b[39mwith_suffix(\u001b[39m'\u001b[39m\u001b[39m.dat\u001b[39m\u001b[39m'\u001b[39m))\n\u001b[0;32m---> 14\u001b[0m arq\u001b[39m.\u001b[39;49mreplace(arq\u001b[39m.\u001b[39;49mwith_suffix(\u001b[39m'\u001b[39;49m\u001b[39m.dat\u001b[39;49m\u001b[39m'\u001b[39;49m))\n\u001b[1;32m     15\u001b[0m \u001b[39mprint\u001b[39m(arq)\n\u001b[1;32m     16\u001b[0m \u001b[39m#%%\u001b[39;00m\n\u001b[1;32m     17\u001b[0m \u001b[39m# for child in PATH_DATA.glob(\"**/p*\"):\u001b[39;00m\n\u001b[1;32m     18\u001b[0m     \n\u001b[0;32m   (...)\u001b[0m\n\u001b[1;32m     22\u001b[0m \u001b[39m#         print(child)\u001b[39;00m\n\u001b[1;32m     23\u001b[0m  \u001b[39m#%%\u001b[39;00m\n",
      "File \u001b[0;32m/usr/lib/python3.8/pathlib.py:1374\u001b[0m, in \u001b[0;36mPath.replace\u001b[0;34m(self, target)\u001b[0m\n\u001b[1;32m   1372\u001b[0m \u001b[39mif\u001b[39;00m \u001b[39mself\u001b[39m\u001b[39m.\u001b[39m_closed:\n\u001b[1;32m   1373\u001b[0m     \u001b[39mself\u001b[39m\u001b[39m.\u001b[39m_raise_closed()\n\u001b[0;32m-> 1374\u001b[0m \u001b[39mself\u001b[39;49m\u001b[39m.\u001b[39;49m_accessor\u001b[39m.\u001b[39;49mreplace(\u001b[39mself\u001b[39;49m, target)\n\u001b[1;32m   1375\u001b[0m \u001b[39mreturn\u001b[39;00m \u001b[39mself\u001b[39m\u001b[39m.\u001b[39m\u001b[39m__class__\u001b[39m(target)\n",
      "\u001b[0;31mFileNotFoundError\u001b[0m: [Errno 2] No such file or directory: '/home/widmark/Github/post-process-monopole/test/teste.txt' -> '/home/widmark/Github/post-process-monopole/test/teste.dat'"
     ]
    }
   ],
   "source": [
    "import numpy as np\n",
    "import src.wave as wv\n",
    "import matplotlib.pyplot as plt\n",
    "\n",
    "from src.datadrive import *\n"
   ]
  },
  {
   "cell_type": "code",
   "execution_count": null,
   "metadata": {},
   "outputs": [],
   "source": []
  }
 ],
 "metadata": {
  "kernelspec": {
   "display_name": "post-process-monopole-ACmFocsL-py3.8",
   "language": "python",
   "name": "python3"
  },
  "language_info": {
   "codemirror_mode": {
    "name": "ipython",
    "version": 3
   },
   "file_extension": ".py",
   "mimetype": "text/x-python",
   "name": "python",
   "nbconvert_exporter": "python",
   "pygments_lexer": "ipython3",
   "version": "3.8.10"
  },
  "orig_nbformat": 4,
  "vscode": {
   "interpreter": {
    "hash": "d9375356d10b7833184cd20130d46e3d5090e4a8fdd18ca5fe483851b96cc73c"
   }
  }
 },
 "nbformat": 4,
 "nbformat_minor": 2
}
