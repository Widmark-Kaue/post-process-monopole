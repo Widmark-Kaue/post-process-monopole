{
 "cells": [
  {
   "cell_type": "code",
   "execution_count": null,
   "metadata": {},
   "outputs": [],
   "source": [
    "import numpy as np\n",
    "import src.wave as wv\n",
    "import matplotlib.pyplot as plt\n",
    "\n",
    "microphone = np.linspace(2,102, 11)"
   ]
  },
  {
   "cell_type": "markdown",
   "metadata": {},
   "source": [
    "# Teste 3"
   ]
  },
  {
   "cell_type": "code",
   "execution_count": null,
   "metadata": {},
   "outputs": [],
   "source": [
    "# Comportamento espacial\n",
    "pSim,pFWH,pFWH2 = wv.importData('pimpleT3', time = 0.5, case = 'monopoleFlow')\n",
    "x = np.linspace(2,102,len(pSim))\n",
    "\n",
    "plt.plot(x,pSim, label = 'Cálculo Direto')\n",
    "plt.xlabel('x [m]')\n",
    "plt.ylabel('p [Pa]')\n",
    "plt.title('Teste 3\\nTempo 0.5 s')\n",
    "plt.grid()\n",
    "plt.legend()\n",
    "plt.show()\n",
    "\n",
    "# Comportamento temporal\n",
    "for m in range(len(microphone)):\n",
    "    SIM, FWH, FWH2 = wv.importData('pimpleT3', case = 'monopoleFlow', probe=m)\n",
    "\n",
    "    ti = f'Teste 3\\nComportamento temporal (r = {round(microphone[m],2)} [m])'\n",
    "   \n",
    "    plt.plot(SIM[0], SIM[1], 'r--', label = 'Cálculo direto', alpha = 0.5)\n",
    "    plt.plot(FWH[0], FWH[1], 'b--', label = 'FWH1', alpha = 0.85)\n",
    "    plt.plot(FWH2[0], FWH[1], 'g--', label = 'FWH2', alpha = 0.75)\n",
    "\n",
    "    plt.xlabel('t [s]')\n",
    "    plt.ylabel('P [Pa]') \n",
    "    plt.title(ti)\n",
    "\n",
    "    plt.legend()\n",
    "    plt.grid()\n",
    "    plt.show()"
   ]
  },
  {
   "cell_type": "markdown",
   "metadata": {},
   "source": [
    "# Teste 6"
   ]
  },
  {
   "cell_type": "code",
   "execution_count": null,
   "metadata": {},
   "outputs": [],
   "source": [
    "#%% Teste 6\n",
    "for m in range(len(microphone)):\n",
    "    SIM, FWH, FWH2 = wv.importData('pimpleT6', case = 'monopoleFlow', probe=m)\n",
    "\n",
    "    ti = f'Teste 6\\nComportamento temporal (r = {round(microphone[m],2)} [m])'\n",
    "   \n",
    "    plt.plot(SIM[0], SIM[1], 'r--', label = 'Cálculo direto', alpha = 0.5)\n",
    "    plt.plot(FWH[0], FWH[1], 'b--', label = 'FWH1', alpha = 0.85)\n",
    "    plt.plot(FWH2[0], FWH[1], 'g--', label = 'FWH2', alpha = 0.75)\n",
    "\n",
    "    plt.xlabel('t [s]')\n",
    "    plt.ylabel('P [Pa]') \n",
    "    plt.title(ti)\n",
    "\n",
    "    plt.legend()\n",
    "    plt.grid()\n",
    "    plt.show()"
   ]
  },
  {
   "cell_type": "markdown",
   "metadata": {},
   "source": [
    "# Teste 9"
   ]
  },
  {
   "cell_type": "code",
   "execution_count": null,
   "metadata": {},
   "outputs": [],
   "source": [
    "pSim,pFWH,pFWH2 = wv.importData('pimpleT9', time = 2.32, case = 'monopoleFlow')\n",
    "x = np.linspace(2,102,len(pSim))\n",
    "\n",
    "plt.plot(x,pSim, label = 'Cálculo Direto')\n",
    "plt.xlabel('x [m]')\n",
    "plt.ylabel('p [Pa]')\n",
    "plt.title('Teste 9\\nTempo 2.32 s')\n",
    "plt.grid()\n",
    "plt.legend()\n",
    "plt.show()"
   ]
  },
  {
   "cell_type": "markdown",
   "metadata": {},
   "source": [
    "# Teste 10 e Teste 11"
   ]
  },
  {
   "cell_type": "code",
   "execution_count": null,
   "metadata": {},
   "outputs": [],
   "source": [
    "T = [10,11]\n",
    "for i in T:\n",
    "    pSim,_,_ = wv.importData(f'pimpleT{i}', time = 0.5, case = 'monopoleFlow')\n",
    "    x = np.linspace(2,102,len(pSim))\n",
    "\n",
    "    plt.plot(x,pSim, label = 'Cálculo Direto')\n",
    "    plt.xlabel('x [m]')\n",
    "    plt.ylabel('p [Pa]')\n",
    "    plt.title(f'Teste {i}\\nTempo 0.5 s')\n",
    "    plt.grid()\n",
    "    plt.legend()\n",
    "    plt.show()"
   ]
  },
  {
   "cell_type": "code",
   "execution_count": null,
   "metadata": {},
   "outputs": [],
   "source": []
  },
  {
   "cell_type": "markdown",
   "metadata": {},
   "source": [
    "## Teste 13 14 - myrhoCentralFoam"
   ]
  },
  {
   "cell_type": "code",
   "execution_count": null,
   "metadata": {},
   "outputs": [],
   "source": [
    "import numpy as np\n",
    "import src.wave as wv\n",
    "import matplotlib.pyplot as plt\n",
    "from pathlib import Path\n",
    "\n",
    "# Comportamento espacial - t = 0.5\n",
    "# pSim,_,_ = wv.importData('mycentralT13', time = 0.5, case = 'monopoleFlow')\n",
    "# x = np.linspace(2,102,len(pSim))\n",
    "\n",
    "# plt.plot(x,pSim, label = 'Cálculo Direto')\n",
    "# plt.xlabel('x [m]')\n",
    "# plt.ylabel('p [Pa]')\n",
    "# plt.title('Teste 13\\nTempo 0.5 s')\n",
    "# plt.grid()\n",
    "# plt.legend()\n",
    "# plt.show()\n",
    "\n",
    "# Import Data - t = 2 -> \n",
    "pSim,_,_ = wv.importData('mycentralT13', time = 2, case = 'monopoleFlow')\n",
    "pSim2,_,_= wv.importData('mycentralT14', time = 2, case = 'monopoleFlow')\n",
    "pSim3,_,_= wv.importData('mycentralT15', time = 2, case = 'monopoleFlow')\n",
    "pSim4,_,_= wv.importData('mycentralT16', time = 2, case = 'monopoleFlow')\n",
    "xa, pAna = np.loadtxt(Path('data','analiticSolution2s.dat'), unpack=True)\n",
    "x        = np.linspace(-100,100,len(pSim))\n",
    "\n",
    "# Plot comparação entre as malhas circulares\n",
    "for i in range(2):\n",
    "    plt.plot(x,pSim, 'b',label = 'S/ wt', alpha = 0.75)\n",
    "    plt.plot(x,pSim4,'r' ,label = 'C/ wt', alpha = 0.55)\n",
    "    if i!=0: plt.plot(xa, pAna,'k',label = 'analítico')\n",
    "\n",
    "    plt.xlabel('x [m]')\n",
    "    plt.ylabel('p [Pa]')\n",
    "    plt.title('Comparação entre as malhas circulares\\nt = 2 s')\n",
    "    plt.grid()\n",
    "    plt.legend()\n",
    "    plt.show()\n",
    "\n",
    "# Plot comparação entre as malhas quadriculadas\n",
    "for i in range(2):\n",
    "    plt.plot(x,pSim2, 'b',label = 'S/ wt', alpha = 0.75)\n",
    "    plt.plot(x,pSim3,'r' ,label = 'C/ wt', alpha = 0.55)\n",
    "    if i!=0: plt.plot(xa, pAna,'k',label = 'analítico')\n",
    "\n",
    "    plt.xlabel('x [m]')\n",
    "    plt.ylabel('p [Pa]')\n",
    "    plt.title('Comparação entre as malhas quadriculadas\\nt = 2 s')\n",
    "    plt.grid()\n",
    "    plt.legend()\n",
    "    plt.show()"
   ]
  },
  {
   "cell_type": "markdown",
   "metadata": {},
   "source": [
    "## Teste 15 16 - myrhoCentralFoam"
   ]
  },
  {
   "cell_type": "code",
   "execution_count": null,
   "metadata": {},
   "outputs": [],
   "source": [
    "import numpy as np\n",
    "import src.wave as wv\n",
    "import matplotlib.pyplot as plt\n",
    "from pathlib import Path\n",
    "\n",
    "# Comportamento espacial - t = 2 -> \n",
    "pSim,_,_ = wv.importData('mycentralT13', time = 2, case = 'monopoleFlow')\n",
    "pSim2,_,_= wv.importData('mycentralT14', time = 2, case = 'monopoleFlow')\n",
    "pSim3,_,_= wv.importData('mycentralT15', time = 2, case = 'monopoleFlow')\n",
    "xa, pAna = np.loadtxt(Path('data','analiticSolution2s.dat'), unpack=True)\n",
    "x        = np.linspace(-100,100,len(pSim))\n",
    "\n",
    "\n",
    "# Plot comparação entre as malhas\n",
    "plt.plot(x,pSim, 'b',label = 'Malha circular', alpha = 0.75)\n",
    "plt.plot(x,pSim2,'r' ,label = 'Malha quadrada', alpha = 0.55)\n",
    "plt.plot(x, pSim3, 'g', label = 'Malha quadrada 2', alpha = 0.25)\n",
    "\n",
    "plt.xlabel('x [m]')\n",
    "plt.ylabel('p [Pa]')\n",
    "plt.title('Comparação entre as malhas\\nt = 2 s')\n",
    "plt.grid()\n",
    "plt.legend()\n",
    "plt.show()\n",
    "\n",
    "# Comparação solução analítica\n",
    "plt.plot(x,pSim, 'b',label = 'Malha circular', alpha = 0.75)\n",
    "plt.plot(x, pSim3, 'g', label = 'Malha quadrada 2', alpha = 0.25)\n",
    "plt.plot(xa, pAna,'k',label = 'analítico')\n",
    "\n",
    "plt.xlabel('x [m]')\n",
    "plt.ylabel('p [Pa]')\n",
    "plt.title('Comparação solução analítica\\nt = 2 s')\n",
    "plt.grid()\n",
    "plt.legend()\n",
    "plt.show()"
   ]
  },
  {
   "cell_type": "markdown",
   "metadata": {},
   "source": [
    "# Teste da função"
   ]
  },
  {
   "cell_type": "code",
   "execution_count": 1,
   "metadata": {},
   "outputs": [
    {
     "name": "stdout",
     "output_type": "stream",
     "text": [
      "H[0] =\n",
      "[-1.47681778e-05 -1.75239272e-05 -1.99543379e-05 -2.20159885e-05\n",
      " -2.36727845e-05 -2.48965094e-05 -2.56672162e-05 -2.59734542e-05\n",
      " -2.58123326e-05 -2.51894248e-05 -2.41185175e-05]\n",
      "H[100] =\n",
      "[1.01295185e-06 5.79528675e-06 1.04076231e-05 1.46990164e-05\n",
      " 1.85291339e-05 2.17727900e-05 2.43239610e-05 2.60991505e-05\n",
      " 2.70400040e-05 2.71150914e-05 2.63208098e-05]\n"
     ]
    },
    {
     "ename": "TypeError",
     "evalue": "Cannot convert complex to float",
     "output_type": "error",
     "traceback": [
      "\u001b[0;31m---------------------------------------------------------------------------\u001b[0m",
      "\u001b[0;31mTypeError\u001b[0m                                 Traceback (most recent call last)",
      "\u001b[0;32m/tmp/ipykernel_72968/120875378.py\u001b[0m in \u001b[0;36m<cell line: 9>\u001b[0;34m()\u001b[0m\n\u001b[1;32m      7\u001b[0m \u001b[0;31m# Função 1\u001b[0m\u001b[0;34m\u001b[0m\u001b[0;34m\u001b[0m\u001b[0;34m\u001b[0m\u001b[0m\n\u001b[1;32m      8\u001b[0m \u001b[0mx\u001b[0m \u001b[0;34m=\u001b[0m \u001b[0mnp\u001b[0m\u001b[0;34m.\u001b[0m\u001b[0mlinspace\u001b[0m\u001b[0;34m(\u001b[0m\u001b[0;34m-\u001b[0m\u001b[0;36m100\u001b[0m\u001b[0;34m,\u001b[0m\u001b[0;36m100\u001b[0m\u001b[0;34m,\u001b[0m\u001b[0;36m1000\u001b[0m\u001b[0;34m)\u001b[0m\u001b[0;34m\u001b[0m\u001b[0;34m\u001b[0m\u001b[0m\n\u001b[0;32m----> 9\u001b[0;31m \u001b[0mpFlow\u001b[0m\u001b[0;34m,\u001b[0m \u001b[0mXYplt\u001b[0m \u001b[0;34m=\u001b[0m \u001b[0mwv\u001b[0m\u001b[0;34m.\u001b[0m\u001b[0mpressureFlow2\u001b[0m\u001b[0;34m(\u001b[0m\u001b[0mnxy\u001b[0m \u001b[0;34m=\u001b[0m \u001b[0;34m(\u001b[0m\u001b[0;36m401\u001b[0m\u001b[0;34m,\u001b[0m\u001b[0;36m401\u001b[0m\u001b[0;34m)\u001b[0m\u001b[0;34m,\u001b[0m \u001b[0mt\u001b[0m \u001b[0;34m=\u001b[0m \u001b[0;36m2\u001b[0m\u001b[0;34m)\u001b[0m\u001b[0;34m\u001b[0m\u001b[0;34m\u001b[0m\u001b[0m\n\u001b[0m\u001b[1;32m     10\u001b[0m \u001b[0mxa\u001b[0m\u001b[0;34m,\u001b[0m \u001b[0mpAna\u001b[0m \u001b[0;34m=\u001b[0m \u001b[0mnp\u001b[0m\u001b[0;34m.\u001b[0m\u001b[0mloadtxt\u001b[0m\u001b[0;34m(\u001b[0m\u001b[0mPath\u001b[0m\u001b[0;34m(\u001b[0m\u001b[0;34m'data'\u001b[0m\u001b[0;34m,\u001b[0m\u001b[0;34m'analiticSolution2s.dat'\u001b[0m\u001b[0;34m)\u001b[0m\u001b[0;34m,\u001b[0m \u001b[0munpack\u001b[0m\u001b[0;34m=\u001b[0m\u001b[0;32mTrue\u001b[0m\u001b[0;34m)\u001b[0m\u001b[0;34m\u001b[0m\u001b[0;34m\u001b[0m\u001b[0m\n\u001b[1;32m     11\u001b[0m \u001b[0;34m\u001b[0m\u001b[0m\n",
      "\u001b[0;32m~/Github/post-process-monopole/src/wave.py\u001b[0m in \u001b[0;36mpressureFlow2\u001b[0;34m(xlim, ylim, nxy, t, alpha, freq, M, gamma, PTR)\u001b[0m\n\u001b[1;32m    212\u001b[0m \u001b[0;34m\u001b[0m\u001b[0m\n\u001b[1;32m    213\u001b[0m             \u001b[0;32mif\u001b[0m \u001b[0mxi\u001b[0m \u001b[0;34m==\u001b[0m \u001b[0;36m0\u001b[0m\u001b[0;34m:\u001b[0m\u001b[0;34m\u001b[0m\u001b[0;34m\u001b[0m\u001b[0m\n\u001b[0;32m--> 214\u001b[0;31m                 H[i,j] = HSy.xreplace(\n\u001b[0m\u001b[1;32m    215\u001b[0m                     {\n\u001b[1;32m    216\u001b[0m                         \u001b[0mxSy\u001b[0m\u001b[0;34m:\u001b[0m \u001b[0mxi\u001b[0m\u001b[0;34m,\u001b[0m\u001b[0;34m\u001b[0m\u001b[0;34m\u001b[0m\u001b[0m\n",
      "\u001b[0;32m~/.local/lib/python3.8/site-packages/sympy/core/expr.py\u001b[0m in \u001b[0;36m__float__\u001b[0;34m(self)\u001b[0m\n\u001b[1;32m    348\u001b[0m             \u001b[0;32mreturn\u001b[0m \u001b[0mfloat\u001b[0m\u001b[0;34m(\u001b[0m\u001b[0mresult\u001b[0m\u001b[0;34m)\u001b[0m\u001b[0;34m\u001b[0m\u001b[0;34m\u001b[0m\u001b[0m\n\u001b[1;32m    349\u001b[0m         \u001b[0;32mif\u001b[0m \u001b[0mresult\u001b[0m\u001b[0;34m.\u001b[0m\u001b[0mis_number\u001b[0m \u001b[0;32mand\u001b[0m \u001b[0mresult\u001b[0m\u001b[0;34m.\u001b[0m\u001b[0mas_real_imag\u001b[0m\u001b[0;34m(\u001b[0m\u001b[0;34m)\u001b[0m\u001b[0;34m[\u001b[0m\u001b[0;36m1\u001b[0m\u001b[0;34m]\u001b[0m\u001b[0;34m:\u001b[0m\u001b[0;34m\u001b[0m\u001b[0;34m\u001b[0m\u001b[0m\n\u001b[0;32m--> 350\u001b[0;31m             \u001b[0;32mraise\u001b[0m \u001b[0mTypeError\u001b[0m\u001b[0;34m(\u001b[0m\u001b[0;34m\"Cannot convert complex to float\"\u001b[0m\u001b[0;34m)\u001b[0m\u001b[0;34m\u001b[0m\u001b[0;34m\u001b[0m\u001b[0m\n\u001b[0m\u001b[1;32m    351\u001b[0m         \u001b[0;32mraise\u001b[0m \u001b[0mTypeError\u001b[0m\u001b[0;34m(\u001b[0m\u001b[0;34m\"Cannot convert expression to float\"\u001b[0m\u001b[0;34m)\u001b[0m\u001b[0;34m\u001b[0m\u001b[0;34m\u001b[0m\u001b[0m\n\u001b[1;32m    352\u001b[0m \u001b[0;34m\u001b[0m\u001b[0m\n",
      "\u001b[0;31mTypeError\u001b[0m: Cannot convert complex to float"
     ]
    }
   ],
   "source": [
    "import numpy as np\n",
    "import src.wave as wv\n",
    "from src.datadrive import PATH_DATA\n",
    "import matplotlib.pyplot as plt\n",
    "from pathlib import Path\n",
    "\n",
    "# Função 1\n",
    "x = np.linspace(-100,100,1000)\n",
    "pFlow, XYplt = wv.pressureFlow2(nxy = (401,401), t = 2)\n",
    "xa, pAna = np.loadtxt(Path('data','analiticSolution2s.dat'), unpack=True)\n",
    "\n",
    "# X,P = np.loadtxt(Path(PATH_DATA, 'teste12s.dat'), unpack=True)\n",
    "# plt.plot(X,P,'r')\n",
    "\n",
    "plt.plot(XYplt[0],XYplt[1], label = \"discreta\")\n",
    "plt.plot(xa, pAna,'k--', label = 'simbólica')\n",
    "plt.xlabel(\"x [m]\")\n",
    "plt.ylabel(\"p [Pa]\")\n",
    "plt.title(\"Comparação das soluções analíticas\\nt = 2s\")\n",
    "plt.xlim([-100,100])\n",
    "plt.grid()\n",
    "plt.legend()\n",
    "plt.plot()"
   ]
  },
  {
   "cell_type": "code",
   "execution_count": null,
   "metadata": {},
   "outputs": [],
   "source": [
    "import numpy as np\n",
    "x = np.arange(-10, 10, dtype= float)\n",
    "n0 = int(np.argwhere(x==0)[0][0])\n",
    "xaux1 = np.delete(np.linspace(x[n0-1], x[n0], 4),(-1,0))\n",
    "xaux2 = np.delete(np.linspace(x[n0], x[n0+1], 4),(-1,0))\n",
    "xaux = np.concatenate((xaux1,xaux2))\n",
    "xnew = np.delete(np.insert(x,n0,xaux),n0+len(xaux))\n",
    "print(x)\n",
    "print(f'n0 ={np.argwhere(x==0)[0][0]}')\n",
    "print(f'xaux1 = {xaux1}')\n",
    "print(f'xaux2 = {xaux2}')\n",
    "print(f'xIns = {xIns}')\n",
    "print(f'xaux = {xaux}')\n",
    "print(f'xnew = {xnew}')\n",
    "\n"
   ]
  },
  {
   "cell_type": "code",
   "execution_count": null,
   "metadata": {},
   "outputs": [],
   "source": [
    "0%100"
   ]
  },
  {
   "cell_type": "code",
   "execution_count": null,
   "metadata": {},
   "outputs": [],
   "source": []
  }
 ],
 "metadata": {
  "kernelspec": {
   "display_name": "Python 3.8.10 64-bit",
   "language": "python",
   "name": "python3"
  },
  "language_info": {
   "codemirror_mode": {
    "name": "ipython",
    "version": 3
   },
   "file_extension": ".py",
   "mimetype": "text/x-python",
   "name": "python",
   "nbconvert_exporter": "python",
   "pygments_lexer": "ipython3",
   "version": "3.8.10"
  },
  "orig_nbformat": 4,
  "vscode": {
   "interpreter": {
    "hash": "916dbcbb3f70747c44a77c7bcd40155683ae19c65e1c03b4aa3499c5328201f1"
   }
  }
 },
 "nbformat": 4,
 "nbformat_minor": 2
}
