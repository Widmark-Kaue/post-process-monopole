{
 "cells": [
  {
   "cell_type": "code",
   "execution_count": null,
   "metadata": {},
   "outputs": [],
   "source": [
    "import numpy as np\n",
    "import scripts.wave as wv\n",
    "import matplotlib.pyplot as plt\n",
    "\n",
    "microphone = np.linspace(2,102, 11)"
   ]
  },
  {
   "cell_type": "markdown",
   "metadata": {},
   "source": [
    "# Teste 3"
   ]
  },
  {
   "cell_type": "code",
   "execution_count": null,
   "metadata": {},
   "outputs": [],
   "source": [
    "# Comportamento espacial\n",
    "pSim,pFWH,pFWH2 = wv.importData('pimpleT3', time = 0.5, case = 'monopoleFlow')\n",
    "x = np.linspace(2,102,len(pSim))\n",
    "\n",
    "plt.plot(x,pSim, label = 'Cálculo Direto')\n",
    "plt.xlabel('x [m]')\n",
    "plt.ylabel('p [Pa]')\n",
    "plt.title('Teste 3\\nTempo 0.5 s')\n",
    "plt.grid()\n",
    "plt.legend()\n",
    "plt.show()\n",
    "\n",
    "# Comportamento temporal\n",
    "for m in range(len(microphone)):\n",
    "    SIM, FWH, FWH2 = wv.importData('pimpleT3', case = 'monopoleFlow', probe=m)\n",
    "\n",
    "    ti = f'Teste 3\\nComportamento temporal (r = {round(microphone[m],2)} [m])'\n",
    "   \n",
    "    plt.plot(SIM[0], SIM[1], 'r--', label = 'Cálculo direto', alpha = 0.5)\n",
    "    plt.plot(FWH[0], FWH[1], 'b--', label = 'FWH1', alpha = 0.85)\n",
    "    plt.plot(FWH2[0], FWH[1], 'g--', label = 'FWH2', alpha = 0.75)\n",
    "\n",
    "    plt.xlabel('t [s]')\n",
    "    plt.ylabel('P [Pa]') \n",
    "    plt.title(ti)\n",
    "\n",
    "    plt.legend()\n",
    "    plt.grid()\n",
    "    plt.show()"
   ]
  },
  {
   "cell_type": "markdown",
   "metadata": {},
   "source": [
    "# Teste 6"
   ]
  },
  {
   "cell_type": "code",
   "execution_count": null,
   "metadata": {},
   "outputs": [],
   "source": [
    "#%% Teste 6\n",
    "for m in range(len(microphone)):\n",
    "    SIM, FWH, FWH2 = wv.importData('pimpleT6', case = 'monopoleFlow', probe=m)\n",
    "\n",
    "    ti = f'Teste 6\\nComportamento temporal (r = {round(microphone[m],2)} [m])'\n",
    "   \n",
    "    plt.plot(SIM[0], SIM[1], 'r--', label = 'Cálculo direto', alpha = 0.5)\n",
    "    plt.plot(FWH[0], FWH[1], 'b--', label = 'FWH1', alpha = 0.85)\n",
    "    plt.plot(FWH2[0], FWH[1], 'g--', label = 'FWH2', alpha = 0.75)\n",
    "\n",
    "    plt.xlabel('t [s]')\n",
    "    plt.ylabel('P [Pa]') \n",
    "    plt.title(ti)\n",
    "\n",
    "    plt.legend()\n",
    "    plt.grid()\n",
    "    plt.show()"
   ]
  },
  {
   "cell_type": "markdown",
   "metadata": {},
   "source": [
    "# Teste 9"
   ]
  },
  {
   "cell_type": "code",
   "execution_count": null,
   "metadata": {},
   "outputs": [],
   "source": [
    "pSim,pFWH,pFWH2 = wv.importData('pimpleT9', time = 2.32, case = 'monopoleFlow')\n",
    "x = np.linspace(2,102,len(pSim))\n",
    "\n",
    "plt.plot(x,pSim, label = 'Cálculo Direto')\n",
    "plt.xlabel('x [m]')\n",
    "plt.ylabel('p [Pa]')\n",
    "plt.title('Teste 9\\nTempo 2.32 s')\n",
    "plt.grid()\n",
    "plt.legend()\n",
    "plt.show()"
   ]
  },
  {
   "cell_type": "markdown",
   "metadata": {},
   "source": [
    "# Teste 10 e Teste 11"
   ]
  },
  {
   "cell_type": "code",
   "execution_count": null,
   "metadata": {},
   "outputs": [],
   "source": [
    "T = [10,11]\n",
    "for i in T:\n",
    "    pSim,_,_ = wv.importData(f'pimpleT{i}', time = 0.5, case = 'monopoleFlow')\n",
    "    x = np.linspace(2,102,len(pSim))\n",
    "\n",
    "    plt.plot(x,pSim, label = 'Cálculo Direto')\n",
    "    plt.xlabel('x [m]')\n",
    "    plt.ylabel('p [Pa]')\n",
    "    plt.title(f'Teste {i}\\nTempo 0.5 s')\n",
    "    plt.grid()\n",
    "    plt.legend()\n",
    "    plt.show()"
   ]
  },
  {
   "cell_type": "code",
   "execution_count": null,
   "metadata": {},
   "outputs": [],
   "source": []
  },
  {
   "cell_type": "markdown",
   "metadata": {},
   "source": [
    "## Teste 13 - myrhoCentralFoam"
   ]
  },
  {
   "cell_type": "code",
   "execution_count": null,
   "metadata": {},
   "outputs": [],
   "source": [
    "import numpy as np\n",
    "import wave as wv\n",
    "import matplotlib.pyplot as plt\n",
    "\n",
    "# Comportamento espacial - t = 0.5\n",
    "pSim,_,_ = wv.importData('mycentralT13', time = 0.5, case = 'monopoleFlow')\n",
    "x = np.linspace(2,102,len(pSim))\n",
    "\n",
    "plt.plot(x,pSim, label = 'Cálculo Direto')\n",
    "plt.xlabel('x [m]')\n",
    "plt.ylabel('p [Pa]')\n",
    "plt.title('Teste 13\\nTempo 0.5 s')\n",
    "plt.grid()\n",
    "plt.legend()\n",
    "plt.show()\n",
    "\n",
    "# Comportamento espacial - t = 2\n",
    "pSim,_,_ = wv.importData('mycentralT13', time = 0.6, case = 'monopoleFlow')\n",
    "pSim2,_,_= wv.importData('mycentralT14', time = 0.6, case = 'monopoleFlow')\n",
    "x = np.linspace(2,102,len(pSim))\n",
    "\n",
    "plt.plot(x,pSim, 'b',label = 'Malha circular')\n",
    "plt.plot(x,pSim2,'r' ,label = 'Malha quadrada')\n",
    "plt.xlabel('x [m]')\n",
    "plt.ylabel('p [Pa]')\n",
    "plt.title('Teste 13\\nTempo 0.6 s')\n",
    "plt.grid()\n",
    "plt.legend()\n",
    "plt.show()\n",
    "\n",
    "# Comportamento temporal\n",
    "microphone = np.linspace(2,102, 11)\n",
    "for m in range(len(microphone)):\n",
    "    SIM,_,_ = wv.importData('mycentralT13', case = 'monopoleFlow', probe=m)\n",
    "\n",
    "    ti = f'Teste 13\\nComportamento temporal (r = {round(microphone[m],2)} [m])'\n",
    "   \n",
    "    plt.plot(SIM[0], SIM[1], 'r--', label = 'Cálculo direto', alpha = 0.5)\n",
    "    \n",
    "    plt.xlabel('t [s]')\n",
    "    plt.ylabel('P [Pa]') \n",
    "    plt.title(ti)\n",
    "\n",
    "    plt.legend()\n",
    "    plt.grid()\n",
    "    plt.show()"
   ]
  },
  {
   "cell_type": "markdown",
   "metadata": {},
   "source": [
    "# Teste da função"
   ]
  },
  {
   "cell_type": "code",
   "execution_count": 1,
   "metadata": {},
   "outputs": [
    {
     "name": "stdout",
     "output_type": "stream",
     "text": [
      "401\n",
      "(401, 401)\n",
      "401\n"
     ]
    },
    {
     "data": {
      "image/png": "[encoded data removed]",
      "text/plain": [
       "<Figure size 432x288 with 1 Axes>"
      ]
     },
     "metadata": {
      "needs_background": "light"
     },
     "output_type": "display_data"
    },
    {
     "data": {
      "image/png": "[encoded data removed]",
      "text/plain": [
       "<Figure size 432x288 with 1 Axes>"
      ]
     },
     "metadata": {
      "needs_background": "light"
     },
     "output_type": "display_data"
    }
   ],
   "source": [
    "import numpy as np\n",
    "import src.wave as wv\n",
    "import matplotlib.pyplot as plt\n",
    "\n",
    "# Função 1\n",
    "x = np.linspace(-102,102,10000)\n",
    "pFlow = wv.pressureFlow(x = x, t = 0.5, M = 0.1)\n",
    "\n",
    "plt.plot(x,pFlow, label = \"analytical\")\n",
    "plt.xlabel(\"x [m]\")\n",
    "plt.ylabel(\"p [Pa]\")\n",
    "plt.title(\"t = 0.5\")\n",
    "plt.grid()\n",
    "plt.legend()\n",
    "plt.plot()\n",
    "\n",
    "# Função 2\n",
    "pFlow2 = wv.pressureFlow2(xlim = (2,102), ylim = (0,0))"
   ]
  },
  {
   "cell_type": "code",
   "execution_count": null,
   "metadata": {},
   "outputs": [],
   "source": []
  }
 ],
 "metadata": {
  "kernelspec": {
   "display_name": "Python 3.8.10 64-bit",
   "language": "python",
   "name": "python3"
  },
  "language_info": {
   "codemirror_mode": {
    "name": "ipython",
    "version": 3
   },
   "file_extension": ".py",
   "mimetype": "text/x-python",
   "name": "python",
   "nbconvert_exporter": "python",
   "pygments_lexer": "ipython3",
   "version": "3.8.10"
  },
  "orig_nbformat": 4,
  "vscode": {
   "interpreter": {
    "hash": "916dbcbb3f70747c44a77c7bcd40155683ae19c65e1c03b4aa3499c5328201f1"
   }
  }
 },
 "nbformat": 4,
 "nbformat_minor": 2
}
